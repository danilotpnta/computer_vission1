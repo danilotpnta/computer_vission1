{
 "cells": [
  {
   "cell_type": "markdown",
   "metadata": {
    "id": "d7PRKfXw99hy"
   },
   "source": [
    "<center><img src=\"https://miro.medium.com/v2/resize:fit:1250/format:webp/1*QgI1t-7yJApi4vQigFgsLQ.jpeg\" width=30% ></center>\n",
    "\n",
    "# <center> Lab Project Part 1: Image Classification using Bag-of-Words </center>\n",
    "<center> Computer Vision 1, University of Amsterdam </center>\n",
    "<center> Due 23:59, October 21, 2023 (Amsterdam time) </center>\n",
    "\n",
    "***\n",
    "\n",
    "<center>\n",
    "<b>TA's: Qi Bi, Avik Pal, Nimi Barazani</b>\n",
    "\n",
    "Student1 ID: \\\n",
    "Student1 Name:\n",
    "\n",
    "Student2 ID: \\\n",
    "Student2 Name:\n",
    "\n",
    "Student3 ID: \\\n",
    "Student3 Name:\n",
    "\n",
    "( Student4 ID: \\\n",
    "Student4 Name: )\n",
    "</center>"
   ]
  },
  {
   "cell_type": "markdown",
   "metadata": {
    "id": "u3TPoO70b2iE"
   },
   "source": [
    "# **Instructions**\n",
    "\n",
    "1. For both parts of the final project, students are expected to prepare a report. The report should include answers to all questions, written details on implementation approaches, the analysis of the results for different settings and visualizations to illustrate experiments with and performance of your implementation. Grading will primarily be based on the report (i.e. it should be self-contained as much as possible). If the report contains any faulty results or ambiguities, the TA's can take a look at your code to find out what happened.\n",
    "\n",
    "2. Do not just provide numbers without explanation, remember to follow the general guidelines and discuss different settings to show you understand the material and the processes at work.\n",
    "\n",
    "3. For qualitative evaluation, you are expected to visualize the top-5 and the bottom-5 ranked test images (based on the classifier confidence for the target class) per setup. That means you are supposed to provide a figure for each experimental setup, as discussed in Section 2.6.\n",
    "\n",
    "**Hint:** Having visual elements such as charts, graphs and plots are always useful for everyone. Keep this in mind while writing your reports.\n"
   ]
  },
  {
   "cell_type": "markdown",
   "metadata": {
    "id": "R_z5OJOVsv23"
   },
   "source": [
    "# **General Guidelines**\n",
    "1. Aim:\n",
    "    - Able to understand the basic Image Recognition/Classification pipeline using a traditional Bag of Words method.\n",
    "    - Able to use to python packages for image classification: *matplotlib, cv2, sklearn etc.*\n",
    "2. Prerequisite:\n",
    "    - Familiarity with Python and relevant packages.\n",
    "    - Know the basics of feature descriptors (SIFT, HoG) and machine learning tools (K-means, SVM and etc.).\n",
    "3. Guidelines:\n",
    "    Students should work on the assignments in their assignment group for **two** weeks.\n",
    "\n",
    "    Any questions regarding the assignment content can be discussed on Piazza.\n",
    "    \n",
    "    Your source code and report must be handed in together in a zip file (**ID1_ID2_ID3_part1.zip**) before the deadline. Make sure your report follows these guidelines:\n",
    "    - *The maximum number of pages for this part is 10 (single-column, including tables and figures). Please express your thoughts concisely.*\n",
    "    - *Follow the given instructions and answer all given questions. Briefly describe what you implemented.*\n",
    "    - *Show you understand the algorithms and implementations: explain why certain settings produce certain results. When constructing graphs, tables and other figures, make your figures as informative as possible (choose relevant sample sizes, axes, etc.), to illustrate your arguments*\n",
    "    - *Tables and figures must be accompanied by a brief description. Do not forget to add a number, a title, and if applicable name and unit of variables in a table, name and unit of axes and legends in a figure.*\n",
    "\n",
    "4. The report should be handed in in **PDF-format**. Your code should be handed in in **.ipynb format**. This does not mean you have to make your project in a notebook, it just means it **should be submitted as a notebook**. Be sure to test whether all your functionality works as expected when ran in a notebook. If you use a Conda environment, be sure to include it in your submission.\n",
    "\n",
    "5. **Late submissions** are not allowed. Assignments that are submitted after the strict deadline will not be graded. In case of submission conflicts, TAs' system clock is taken as reference. We strongly recommend submitting well in advance, to avoid last minute system failure issues.\n",
    "6. **Plagiarism note**:\n",
    "Keep in mind that plagiarism (submitted materials which are not your work) is a serious crime and any misconduct shall be punished with the university regulations.\n",
    "This includes the use of ChatGPT and other generative AI tools.\n",
    "\n",
    "<!-- ### PyTorch versions\n",
    "we assume that you are using latest PyTorch version(>=1.4)\n",
    "\n",
    "### PyTorch Tutorial & Docs\n",
    "This tutorial aims to make you familiar with the programming environment that will be used throughout the course. If you have experience with PyTorch or other frameworks (TensorFlow, MXNet *etc.*), you can skip the tutorial exercises; otherwise, we suggest that you complete them all, as they are helpful for getting hands-on experience.\n",
    "\n",
    "**Anaconda Environment** We recommend installing \\textit{anaconda} for configuring \\textit{python} package dependencies, whereas it's also fine to use other environment managers as you like. The installation of anaconda can be found in [anaconda link](https://docs.anaconda.com/anaconda/install/).\n",
    "\n",
    "**Installation** The installation of PyTorch is available at [install link](https://pytorch.org/get-started/locally/) depending on your device and system.\n",
    "\n",
    "**Getting start** The 60-minute blitz can be found at [blitz](https://pytorch.org/tutorials/beginner/deep_learning_60min_blitz.html), and and examples are at [examples](https://pytorch.org/tutorials/beginner/pytorch_with_examples.html)\n",
    "\n",
    "**Documents** There might be potential unknown functions or classes, you shall look through the official documents website ([Docs](https://pytorch.org/docs/stable/index.html)) and figure them out by yourself. (***Think***:} What's the difference between *torch.nn.Conv2d* and *torch.nn.functional.conv2d*?)\n",
    "You can learn pytorch from the [tutorial link](https://pytorch.org/tutorials/). The Docs information can be searched at [Docs](https://pytorch.org/docs/stable/index.html). In this assignments, we wish you to form the basic capability of using one of the well-known   -->"
   ]
  },
  {
   "cell_type": "markdown",
   "metadata": {
    "id": "7uNsGM0F9rfE"
   },
   "source": [
    "# **1. Introduction**\n",
    "\n",
    "The goal of the assignment is to implement a system for image classification. In other words, this system should tell if there is an object of given class in an image. You will perform 5-class ({1: *airplanes*, 2: *birds*, 3: *ships*, 4: *horses*, 5: *automobiles*}) image classification based on a bag-of-words approach ([reference](http://www.robots.ox.ac.uk/~az/icvss08_az_bow.pdf)) using SIFT features. [CIFAR10 dataset](https://www.cs.toronto.edu/~kriz/cifar.html) will be used for the task. For each class, the test sub-directories contain 1000 images, and the training sub-directories contain 5000 images. Images are represented as (RGB) 32x32 pixels.\n",
    "\n",
    "Download the [dataset](https://www.cs.toronto.edu/~kriz/cifar-10-python.tar.gz). The archive contains the files *data_batch_1*, *data_batch_2*, ..., *data_batch_5*, as well as *test_batch*. Download the dataset and make yourself familiar with it by figuring out which images and labels you need for the aforementioned 5 classes.\n",
    "\n",
    "**Note:** You may also opt to work with a subset of the training images if you choose, as long as this subset includes at least 500 images from each of the 5 classes. This option is to allow for a more manageable workload, especially if computational resources are limited. If applicable, consider the effects of using this smaller set of images on the quality of your implementation.\n",
    "\n",
    "**Hint:**\n",
    "In a real scenario, the public data you use often deviates from your task. You need to figure it out and re-arrange the labels as required using the *lab1_utils.py* file (provided in the zip) as a reference. You may (or may not) choose to use the following code to load the dataset:\n",
    "\n"
   ]
  },
  {
   "cell_type": "code",
   "execution_count": 2,
   "metadata": {
    "id": "z-CKadcuvVPE"
   },
   "outputs": [
    {
     "name": "stdout",
     "output_type": "stream",
     "text": [
      "Files already downloaded and verified\n",
      "Files already downloaded and verified\n"
     ]
    }
   ],
   "source": [
    "from lab1_utils import CIFAR10\n",
    "trainset = CIFAR10(\"./data\", train=True, N=1000)\n",
    "testset = CIFAR10(\"./data\", train=False)\n",
    "\n",
    "training_data = trainset.data\n",
    "training_label = trainset.targets"
   ]
  },
  {
   "cell_type": "markdown",
   "metadata": {
    "id": "zJZPyMT7_Kvz"
   },
   "source": [
    "## **1.1 Training Phase**\n",
    "\n",
    "Training must be conducted over the training set.\n",
    "Later on the training set will be divided into two subsets, one for building the visual vocabulary, and the other for training the classifier.\n",
    "Keep in mind that using more samples in training will likely result in better performance. However, if your computational resources are limited and/or your system is slow, it's OK to use less training data to save time.\n",
    "\n",
    "**Hint:** To debug your code, you can use a small amount of input images/descriptors. Once you are sure everything works properly, you can run your code for the experiment using all the data points.\n",
    "\n",
    "**Hint:** You are not allowed to use the test images for training purpose."
   ]
  },
  {
   "cell_type": "markdown",
   "metadata": {
    "id": "RDzqpqAn_ueU"
   },
   "source": [
    "## **1.2 Testing Phase**\n",
    "\n",
    "You have to test your system using the specified subset of test images. All 1000 test images (per class) should be used at once for testing to observe the full performance. Again, exclude them from training for fair comparison."
   ]
  },
  {
   "cell_type": "markdown",
   "metadata": {
    "id": "Ma47S1_-_-aN"
   },
   "source": [
    "# **2. Bag-of-Words based Image Classification**\n",
    "\n",
    "Bag-of-Words based Image Classification system contains the following steps:\n",
    "1. Feature extraction and description\n",
    "2. Building a visual vocabulary (use the first subset from the training set)\n",
    "3. Quantify features using visual dictionary (encoding)\n",
    "4. Representing images by frequencies of visual words\n",
    "5. Train the classifier (use the second subset from the training set)\n",
    "\n",
    "We will consider each step in detail.\n"
   ]
  },
  {
   "cell_type": "markdown",
   "metadata": {
    "id": "CXQBnhT499h2"
   },
   "source": [
    "## **2.1 Feature Extraction and Description**\n",
    "\n",
    "SIFT descriptors can be extracted from keypoints. You can use SIFT related functions in *OpenCV* for feature extraction."
   ]
  },
  {
   "cell_type": "markdown",
   "metadata": {
    "id": "qvNbVoMh99h5"
   },
   "source": [
    "####  **` Q2.1: Extract SIFT descriptors from training datasets based on keypoints. Show two images from each of the five classes (draw the circles with the size of keypoints). (10-pts).`**  \n",
    "\n",
    "**Hint:**\n",
    "Check out the Docs of SIFT and related functions for further information in the following [link1](https://docs.opencv.org/master/da/df5/tutorial_py_sift_intro.html) and [link2](https://docs.opencv.org/master/d7/d60/classcv_1_1SIFT.html)."
   ]
  },
  {
   "cell_type": "code",
   "execution_count": 63,
   "metadata": {
    "id": "47K1Kzph99h3"
   },
   "outputs": [
    {
     "name": "stdout",
     "output_type": "stream",
     "text": [
      "[10 11]\n",
      "[2 7]\n",
      "[ 4 30]\n",
      "[3 5]\n",
      "[0 1]\n"
     ]
    },
    {
     "data": {
      "image/png": "[encoded data removed]",
      "text/plain": [
       "<Figure size 432x288 with 2 Axes>"
      ]
     },
     "metadata": {
      "needs_background": "light"
     },
     "output_type": "display_data"
    },
    {
     "data": {
      "image/png": "[encoded data removed]",
      "text/plain": [
       "<Figure size 432x288 with 2 Axes>"
      ]
     },
     "metadata": {
      "needs_background": "light"
     },
     "output_type": "display_data"
    },
    {
     "data": {
      "image/png": "[encoded data removed]",
      "text/plain": [
       "<Figure size 432x288 with 2 Axes>"
      ]
     },
     "metadata": {
      "needs_background": "light"
     },
     "output_type": "display_data"
    },
    {
     "data": {
      "image/png": "[encoded data removed]",
      "text/plain": [
       "<Figure size 432x288 with 2 Axes>"
      ]
     },
     "metadata": {
      "needs_background": "light"
     },
     "output_type": "display_data"
    },
    {
     "data": {
      "image/png": "[encoded data removed]",
      "text/plain": [
       "<Figure size 432x288 with 2 Axes>"
      ]
     },
     "metadata": {
      "needs_background": "light"
     },
     "output_type": "display_data"
    }
   ],
   "source": [
    "#####################################################\n",
    "# YOUR CODE HERE\n",
    "######################################################\n",
    "import matplotlib.pyplot as plt\n",
    "import numpy as np\n",
    "import cv2 as cv\n",
    "\n",
    "def feature_extraction(imgs):\n",
    "    dss = []\n",
    "    for img in imgs:\n",
    "        ds, _  = extract_keypoint(img)\n",
    "        if ds is not None:\n",
    "            if len(dss) == 0:\n",
    "                dss = ds\n",
    "            else:\n",
    "                dss = np.concatenate((dss, ds), axis=0)\n",
    "    return dss\n",
    "\n",
    "def extract_keypoint(img):\n",
    "    gray= cv.cvtColor(img,cv.COLOR_BGR2GRAY)\n",
    "    sift = cv.xfeatures2d.SIFT_create()\n",
    "    kp, des = sift.detectAndCompute(gray,None)\n",
    "    img2=cv.drawKeypoints(img,kp,gray,flags=cv.DRAW_MATCHES_FLAGS_DRAW_RICH_KEYPOINTS)\n",
    "    return des, img2\n",
    "\n",
    "print(np.nonzero(training_label == 0)[0][0:2])\n",
    "print(np.nonzero(training_label == 1)[0][0:2])\n",
    "print(np.nonzero(training_label == 2)[0][0:2])\n",
    "print(np.nonzero(training_label == 3)[0][0:2])\n",
    "print(np.nonzero(training_label == 4)[0][0:2])\n",
    "\n",
    "plt.subplot(121)\n",
    "_,img2 = extract_keypoint(training_data[10])\n",
    "plt.imshow(img2)\n",
    "plt.title('Label airplane')\n",
    "plt.axis('off')\n",
    "\n",
    "plt.subplot(122)\n",
    "_,img2 = extract_keypoint(training_data[11])\n",
    "plt.imshow(img2)\n",
    "plt.title('Label airplane')\n",
    "plt.axis('off')\n",
    " \n",
    "plt.show()\n",
    "\n",
    "plt.subplot(121)\n",
    "_,img2 = extract_keypoint(training_data[2])\n",
    "plt.imshow(img2)\n",
    "plt.title('Label bird')\n",
    "plt.axis('off')\n",
    "\n",
    "plt.subplot(122)\n",
    "_,img2 = extract_keypoint(training_data[7])\n",
    "plt.imshow(img2)\n",
    "plt.title('Label bird')\n",
    "plt.axis('off')\n",
    " \n",
    "plt.show()\n",
    "          \n",
    "plt.subplot(121)\n",
    "_,img2 = extract_keypoint(training_data[4])\n",
    "plt.imshow(img2)\n",
    "plt.title('Label ship')\n",
    "plt.axis('off')\n",
    "\n",
    "plt.subplot(122)\n",
    "_,img2 = extract_keypoint(training_data[30])\n",
    "plt.imshow(img2)\n",
    "plt.title('Label ship')\n",
    "plt.axis('off')\n",
    " \n",
    "plt.show()\n",
    "\n",
    "plt.subplot(121)\n",
    "_,img2 = extract_keypoint(training_data[3])\n",
    "plt.imshow(img2)\n",
    "plt.title('Label horse')\n",
    "plt.axis('off')\n",
    "\n",
    "plt.subplot(122)\n",
    "_,img2 = extract_keypoint(training_data[5])\n",
    "plt.imshow(img2)\n",
    "plt.title('Label horse')\n",
    "plt.axis('off')\n",
    " \n",
    "plt.show()\n",
    "\n",
    "plt.subplot(121)\n",
    "_,img2 = extract_keypoint(training_data[0])\n",
    "plt.imshow(img2)\n",
    "plt.title('Label automobile')\n",
    "plt.axis('off')\n",
    "\n",
    "plt.subplot(122)\n",
    "_,img2 = extract_keypoint(training_data[1])\n",
    "plt.imshow(img2)\n",
    "plt.title('Label automobile')\n",
    "plt.axis('off')\n",
    "\n",
    "           \n",
    "plt.show()\n",
    "#     plt.imshow(extract_keypoint(training_data[i]))\n",
    "#     plt.show()"
   ]
  },
  {
   "cell_type": "markdown",
   "metadata": {
    "id": "DZ6OkCV9LIM9"
   },
   "source": [
    "## **2.2 Building Visual Vocabulary**\n",
    "\n",
    "Here, we will obtain visual words by clustering feature descriptors, so each cluster center is a visual word. Take a subset of all training images (this subset should contain images from ALL categories), extract SIFT descriptors from all of these images, and run k-means clustering (you can use your favourite k-means implementation) on these SIFT descriptors to build your visual vocabulary. Then, take the rest of the training images to calculate a visual dictionary.\n",
    "\n",
    "You can also use less images, say 100 from each class (exclusive from the previous subset) if your computational resources are limited (remember to analyze the effects). Pre-defined cluster numbers will be the size of your vocabulary. In this question, set its size to 1000."
   ]
  },
  {
   "cell_type": "markdown",
   "metadata": {
    "id": "w6a1z2vK99h7"
   },
   "source": [
    "####  **` Q2.2: Building Visual Vocabulary. (10-pts)`**\n",
    "Create a visual vocabulary by using K-means clustering. Remember to display the results when the vocabulary subset is 30\\%, 40\\% and 50\\% amount of the training images. The vocabulary size is fixed 1000 in this question.\n",
    "\n",
    "**Hint 1:** Remember first to debug all the code with a small amount of input images and only when you are sure that code functions correctly run it for training over the larger dataset.\n",
    "\n",
    "**Hint 2:** You can achieve K-means clustering using either *sklearn* package or *scipy* package.\n",
    "\n",
    "**Hint 3:** Results of K-means clustering could be shown using a scatter plot. In this case, the high-dimensional SIFT descriptors need to be brought down to a lower (2D) dimension  (*PCA* from *sklearn.decomposition* is one method to do this). For easy visualization, plotting up to 10 clusters would suffice. Check out an example implementation [here](https://www.askpython.com/python/examples/plot-k-means-clusters-python). Note that you are free to follow this approach, or you can show the K-means results in any other appropriate method that drives home your point."
   ]
  },
  {
   "cell_type": "code",
   "execution_count": 74,
   "metadata": {
    "id": "Wu1004H599h9"
   },
   "outputs": [
    {
     "name": "stdout",
     "output_type": "stream",
     "text": [
      "(1000,)\n"
     ]
    },
    {
     "data": {
      "image/png": "[encoded data removed]",
      "text/plain": [
       "<Figure size 432x288 with 1 Axes>"
      ]
     },
     "metadata": {
      "needs_background": "light"
     },
     "output_type": "display_data"
    }
   ],
   "source": [
    "######################\n",
    "# YOUR CODE HERE\n",
    "######################\n",
    "from sklearn.model_selection import train_test_split\n",
    "from sklearn.decomposition import PCA\n",
    "from sklearn.cluster import KMeans\n",
    "\n",
    "X_dictionary, X_vocabulary, y_dictionary, y_vocabulary = train_test_split(training_data, training_label, test_size=0.03, random_state=42)\n",
    "\n",
    "# print(X_test.shape)\n",
    "# print(np.unique(y_test, return_counts=True))\n",
    "# ds, _ = extract_keypoint(X_test[0])\n",
    "# print(ds)\n",
    "# print(ds.shape)\n",
    "\n",
    "dss_vocab = feature_extraction(X_vocabulary)\n",
    "dss_dict = feature_extraction(X_dictionary)\n",
    "\n",
    "def kmeans(data, k=1000):\n",
    "    kmeans = KMeans(n_clusters= 1000)\n",
    "    kmeans.fit(data)\n",
    "    centroids = kmeans.cluster_centers_\n",
    "    return centroids, kmeans\n",
    "\n",
    "centroids_high, model_kmeans = kmeans(dss_vocab)\n",
    "\n",
    "pca = PCA(2)\n",
    " \n",
    "#Transform the data\n",
    "df = pca.fit_transform(dss_vocab)\n",
    "centroids = pca.fit_transform(centroids_high)\n",
    "\n",
    "label = model_kmeans.predict(dss_vocab)\n",
    "\n",
    "u_labels = np.unique(label)\n",
    " \n",
    "for i in u_labels[0:10]:\n",
    "    plt.scatter(df[label == i , 0] , df[label == i , 1] , label = i)\n",
    "plt.scatter(centroids[0:10,0] , centroids[0:10,1] , s = 80, color = 'k')\n",
    "plt.legend()\n",
    "plt.show()"
   ]
  },
  {
   "cell_type": "markdown",
   "metadata": {
    "id": "gihEWG9MC8b8"
   },
   "source": [
    "## **2.3 Encoding Features Using Visual Vocabulary**\n",
    "\n",
    "Once we have a visual vocabulary, we can represent each image as a collection of visual words. For this purpose, we need to extract feature descriptors (with SIFT) and then assign each descriptor to the closest visual word from the vocabulary."
   ]
  },
  {
   "cell_type": "code",
   "execution_count": 76,
   "metadata": {
    "id": "Vu6NaYtRzbH2"
   },
   "outputs": [
    {
     "name": "stdout",
     "output_type": "stream",
     "text": [
      "{0: 201, 1: 60, 2: 320, 3: 67, 4: 8, 5: 193, 6: 250, 7: 137, 8: 63, 9: 9, 10: 112, 11: 318, 12: 101, 13: 17, 14: 26, 15: 53, 16: 164, 17: 83, 18: 132, 19: 181, 20: 307, 21: 150, 22: 144, 23: 30, 24: 106, 25: 248, 26: 33, 27: 127, 28: 10, 29: 291, 30: 29, 31: 112, 32: 38, 33: 14, 34: 521, 35: 149, 36: 290, 37: 204, 38: 153, 39: 56, 40: 23, 41: 147, 42: 179, 43: 16, 44: 150, 45: 11, 46: 333, 47: 137, 48: 60, 49: 264, 50: 80, 51: 54, 52: 497, 53: 424, 54: 55, 55: 108, 56: 313, 57: 27, 58: 18, 59: 209, 60: 370, 61: 43, 62: 179, 63: 72, 64: 30, 65: 263, 66: 30, 67: 9, 68: 88, 69: 68, 70: 355, 71: 217, 72: 142, 73: 600, 74: 133, 75: 369, 76: 77, 77: 270, 78: 162, 79: 14, 80: 96, 81: 178, 82: 209, 83: 148, 84: 202, 85: 293, 86: 41, 87: 24, 88: 108, 89: 27, 90: 86, 91: 124, 92: 140, 93: 29, 94: 212, 95: 13, 96: 122, 97: 17, 98: 68, 99: 193, 100: 137, 101: 165, 102: 44, 103: 128, 104: 280, 105: 94, 106: 239, 107: 52, 108: 101, 109: 300, 110: 134, 111: 198, 112: 37, 113: 8, 114: 11, 115: 84, 116: 6, 117: 149, 118: 7, 119: 197, 120: 22, 121: 19, 122: 158, 123: 121, 124: 125, 125: 159, 126: 24, 127: 51, 128: 80, 129: 330, 130: 76, 131: 57, 132: 96, 133: 235, 134: 90, 135: 14, 136: 7, 137: 57, 138: 66, 139: 136, 140: 38, 141: 117, 142: 8, 143: 142, 144: 265, 145: 93, 146: 57, 147: 33, 148: 65, 149: 12, 150: 19, 151: 282, 152: 158, 153: 183, 154: 16, 155: 72, 156: 45, 157: 121, 158: 48, 159: 332, 160: 457, 161: 44, 162: 413, 163: 11, 164: 296, 165: 47, 166: 54, 167: 189, 169: 46, 170: 166, 171: 250, 172: 132, 173: 157, 174: 53, 175: 24, 176: 11, 177: 61, 178: 9, 179: 52, 180: 33, 181: 196, 182: 41, 183: 6, 184: 51, 185: 22, 186: 247, 187: 12, 188: 38, 189: 218, 190: 36, 191: 131, 192: 216, 193: 156, 194: 14, 195: 223, 196: 119, 197: 206, 198: 4, 199: 98, 200: 19, 201: 25, 202: 65, 203: 82, 204: 39, 205: 104, 206: 10, 207: 7, 208: 52, 209: 31, 210: 94, 211: 9, 212: 17, 213: 63, 214: 37, 215: 18, 216: 5, 217: 12, 218: 104, 219: 65, 220: 14, 221: 7, 222: 34, 223: 148, 224: 140, 225: 12, 226: 134, 227: 83, 228: 79, 229: 12, 230: 8, 231: 91, 232: 10, 233: 157, 234: 5, 235: 10, 236: 92, 237: 8, 238: 118, 239: 60, 240: 25, 241: 163, 242: 51, 243: 26, 244: 50, 245: 49, 246: 22, 247: 71, 248: 164, 249: 10, 250: 270, 251: 101, 252: 1, 253: 38, 254: 27, 255: 30, 256: 11, 257: 259, 258: 86, 259: 44, 260: 31, 261: 47, 262: 31, 263: 230, 264: 66, 265: 26, 266: 10, 267: 31, 268: 338, 269: 7, 270: 21, 271: 32, 272: 88, 273: 33, 274: 153, 275: 26, 276: 22, 277: 118, 278: 72, 279: 98, 280: 20, 281: 36, 282: 12, 283: 107, 284: 18, 285: 35, 286: 58, 287: 28, 288: 215, 289: 10, 290: 4, 291: 16, 292: 12, 293: 98, 294: 26, 295: 169, 296: 27, 297: 278, 298: 82, 299: 34, 300: 105, 301: 74, 302: 40, 303: 61, 304: 222, 305: 68, 306: 6, 307: 110, 308: 51, 309: 11, 310: 3, 311: 78, 312: 99, 313: 12, 314: 7, 315: 188, 316: 226, 317: 86, 318: 139, 319: 25, 320: 19, 321: 38, 322: 30, 323: 23, 324: 142, 325: 13, 326: 14, 327: 13, 328: 15, 329: 22, 330: 60, 331: 34, 332: 7, 333: 114, 334: 142, 335: 56, 336: 29, 337: 131, 338: 115, 339: 37, 340: 11, 341: 56, 342: 4, 343: 52, 344: 1, 345: 25, 346: 6, 347: 7, 348: 15, 349: 3, 350: 99, 351: 88, 352: 102, 353: 7, 354: 22, 355: 129, 356: 263, 357: 18, 358: 61, 359: 167, 360: 9, 361: 14, 362: 57, 363: 69, 364: 83, 365: 116, 366: 3, 367: 15, 368: 5, 369: 107, 370: 4, 371: 10, 372: 124, 373: 9, 374: 17, 375: 84, 376: 40, 377: 33, 378: 26, 379: 27, 380: 130, 381: 43, 382: 22, 383: 20, 384: 23, 385: 13, 386: 44, 387: 18, 388: 112, 389: 7, 390: 146, 391: 22, 392: 14, 393: 142, 394: 70, 395: 30, 396: 8, 397: 7, 398: 134, 399: 186, 400: 18, 401: 74, 402: 267, 403: 61, 404: 4, 405: 14, 406: 408, 407: 17, 408: 81, 409: 35, 410: 12, 411: 15, 412: 4, 413: 30, 414: 12, 415: 50, 416: 22, 417: 85, 419: 136, 420: 113, 421: 350, 422: 246, 423: 24, 424: 239, 425: 19, 426: 85, 427: 7, 428: 90, 429: 137, 430: 151, 431: 32, 432: 15, 433: 161, 434: 2, 435: 42, 436: 29, 437: 63, 438: 45, 439: 246, 440: 66, 441: 17, 442: 217, 443: 13, 444: 4, 445: 3, 446: 43, 447: 65, 448: 12, 449: 22, 450: 4, 451: 15, 452: 2, 453: 10, 454: 121, 455: 79, 456: 5, 457: 9, 458: 54, 459: 225, 460: 38, 461: 17, 462: 180, 463: 72, 464: 21, 465: 23, 466: 17, 467: 55, 468: 7, 469: 10, 470: 136, 471: 217, 472: 13, 473: 4, 474: 90, 475: 37, 476: 127, 477: 18, 478: 14, 479: 101, 480: 20, 481: 17, 482: 134, 483: 103, 484: 57, 485: 9, 486: 9, 487: 168, 488: 24, 489: 2, 490: 134, 491: 18, 492: 83, 493: 27, 494: 22, 495: 7, 496: 34, 497: 5, 498: 14, 499: 14, 500: 42, 501: 34, 502: 1, 503: 10, 504: 72, 505: 6, 506: 8, 507: 5, 508: 6, 509: 27, 510: 4, 511: 58, 512: 6, 513: 13, 514: 7, 515: 53, 516: 157, 517: 9, 518: 121, 519: 24, 520: 7, 521: 26, 522: 77, 523: 7, 524: 7, 525: 119, 526: 5, 527: 19, 528: 3, 529: 53, 530: 26, 531: 14, 532: 4, 533: 10, 534: 4, 535: 103, 536: 2, 537: 64, 538: 7, 539: 15, 540: 18, 541: 13, 542: 22, 543: 8, 544: 124, 545: 152, 546: 58, 547: 135, 548: 102, 549: 2, 550: 137, 551: 6, 552: 33, 553: 10, 554: 245, 555: 8, 556: 21, 557: 27, 558: 1, 559: 49, 560: 3, 561: 33, 562: 12, 563: 7, 564: 62, 565: 3, 566: 20, 567: 7, 568: 13, 569: 3, 570: 19, 571: 4, 572: 23, 573: 21, 574: 29, 575: 13, 576: 11, 577: 8, 578: 14, 579: 15, 580: 11, 581: 39, 582: 121, 583: 21, 584: 50, 585: 25, 586: 17, 587: 17, 588: 13, 589: 13, 590: 11, 591: 9, 592: 12, 593: 15, 594: 86, 595: 7, 596: 6, 597: 8, 598: 9, 599: 10, 600: 14, 601: 47, 602: 5, 603: 8, 604: 49, 605: 40, 606: 21, 607: 23, 608: 203, 609: 13, 610: 135, 611: 1, 612: 26, 613: 7, 614: 47, 615: 8, 616: 10, 617: 2, 618: 6, 619: 179, 620: 129, 621: 14, 622: 13, 623: 10, 624: 19, 625: 7, 626: 80, 627: 23, 628: 39, 629: 23, 630: 7, 631: 15, 632: 6, 633: 48, 634: 4, 635: 73, 636: 15, 637: 36, 638: 15, 639: 96, 640: 17, 641: 76, 642: 122, 643: 41, 644: 2, 645: 106, 646: 17, 647: 10, 648: 8, 649: 91, 650: 6, 651: 9, 652: 92, 653: 10, 654: 11, 655: 3, 656: 3, 657: 99, 658: 110, 660: 17, 661: 32, 662: 24, 663: 51, 664: 4, 665: 16, 666: 15, 667: 140, 668: 11, 669: 9, 670: 148, 671: 9, 672: 36, 673: 80, 674: 20, 675: 4, 676: 3, 677: 4, 678: 14, 679: 102, 680: 10, 681: 82, 682: 29, 683: 11, 684: 3, 685: 10, 686: 15, 687: 9, 688: 1, 689: 47, 690: 20, 691: 49, 692: 13, 693: 50, 694: 20, 695: 162, 696: 12, 697: 9, 698: 9, 699: 8, 700: 3, 701: 43, 702: 11, 703: 2, 704: 4, 705: 3, 706: 11, 707: 9, 708: 37, 709: 11, 710: 118, 711: 4, 712: 77, 713: 14, 714: 19, 715: 8, 716: 5, 717: 294, 718: 25, 719: 20, 720: 6, 721: 21, 722: 9, 723: 3, 724: 11, 725: 5, 726: 13, 727: 17, 728: 26, 729: 46, 730: 34, 731: 12, 732: 10, 733: 32, 734: 6, 735: 4, 736: 25, 737: 66, 738: 19, 739: 44, 740: 20, 741: 30, 742: 12, 743: 63, 744: 22, 745: 86, 746: 15, 747: 38, 748: 60, 749: 9, 750: 29, 751: 7, 752: 17, 753: 17, 754: 24, 755: 4, 756: 19, 757: 7, 758: 11, 759: 5, 760: 7, 761: 40, 762: 1, 763: 7, 764: 19, 765: 42, 766: 4, 767: 106, 768: 2, 769: 35, 770: 24, 771: 11, 772: 25, 773: 29, 774: 70, 775: 59, 776: 32, 777: 55, 778: 49, 779: 55, 780: 160, 781: 17, 782: 13, 783: 4, 784: 91, 785: 44, 786: 44, 787: 36, 788: 60, 789: 8, 790: 3, 791: 8, 792: 3, 793: 4, 794: 7, 795: 108, 796: 1, 797: 7, 798: 11, 799: 48, 800: 13, 801: 32, 802: 40, 803: 16, 804: 87, 805: 23, 806: 25, 807: 4, 808: 3, 809: 11, 810: 9, 811: 5, 812: 62, 813: 9, 814: 9, 815: 8, 816: 27, 817: 125, 818: 39, 819: 12, 820: 6, 821: 16, 822: 28, 823: 35, 824: 11, 825: 26, 826: 11, 827: 6, 828: 18, 829: 10, 830: 10, 831: 10, 832: 16, 833: 55, 834: 25, 835: 35, 836: 28, 837: 29, 838: 2, 839: 73, 840: 46, 841: 16, 842: 22, 843: 21, 844: 6, 845: 21, 846: 22, 847: 7, 848: 21, 849: 88, 850: 27, 851: 40, 852: 174, 853: 4, 854: 88, 855: 10, 856: 10, 857: 18, 858: 22, 859: 2, 860: 5, 861: 4, 862: 14, 863: 3, 864: 95, 865: 17, 866: 20, 867: 19, 868: 9, 869: 63, 870: 49, 871: 6, 872: 15, 873: 5, 874: 8, 875: 68, 876: 6, 877: 24, 878: 129, 879: 17, 880: 10, 881: 10, 882: 13, 883: 44, 884: 29, 885: 4, 886: 37, 887: 14, 888: 19, 889: 12, 890: 7, 891: 28, 892: 23, 893: 7, 894: 10, 895: 24, 896: 6, 897: 13, 898: 17, 899: 5, 900: 16, 901: 46, 902: 6, 903: 5, 904: 17, 905: 10, 906: 18, 907: 18, 908: 14, 909: 14, 910: 32, 911: 25, 912: 9, 913: 72, 914: 6, 915: 6, 916: 69, 917: 9, 918: 52, 919: 22, 920: 21, 921: 14, 922: 7, 923: 22, 924: 10, 925: 5, 926: 19, 927: 2, 928: 18, 929: 2, 930: 11, 931: 11, 932: 19, 933: 2, 934: 12, 935: 20, 936: 1, 937: 10, 938: 20, 939: 16, 940: 7, 941: 23, 942: 9, 943: 15, 944: 15, 945: 48, 946: 18, 947: 2, 948: 26, 949: 17, 950: 2, 951: 15, 952: 8, 953: 3, 954: 15, 955: 17, 956: 29, 957: 10, 958: 30, 959: 23, 960: 13, 961: 3, 962: 11, 963: 59, 964: 12, 965: 29, 966: 7, 967: 11, 968: 16, 969: 1, 970: 53, 971: 15, 972: 65, 973: 239, 974: 37, 975: 17, 976: 12, 977: 6, 978: 137, 979: 15, 980: 17, 981: 77, 982: 12, 983: 4, 984: 13, 985: 20, 986: 150, 987: 22, 988: 9, 989: 11, 990: 5, 991: 36, 992: 110, 993: 8, 994: 18, 995: 13, 996: 20, 997: 7, 998: 15, 999: 41}\n"
     ]
    }
   ],
   "source": [
    "######################\n",
    "# YOUR CODE HERE\n",
    "######################\n",
    "label_dict = model_kmeans.predict(dss_dict)\n",
    "u_label_id, u_label_count = np.unique(label_dict, return_counts=True)\n",
    "# print(u_label_count, u_label_id)\n",
    "dictionary = {u_label_id[i] : u_label_count[i] for i in range(len(u_label_id))}\n",
    "print(dictionary)"
   ]
  },
  {
   "cell_type": "markdown",
   "metadata": {
    "id": "s9GRPT4kDGRt"
   },
   "source": [
    "## **2.4 Representing images by frequencies of visual words**\n",
    "\n",
    "The next step is the quantization. The idea is to represent each image by a histogram of its visual words. Check out matplotlib's [hist()](https://matplotlib.org/stable/api/_as_gen/matplotlib.pyplot.hist.html) function. Since different images can have different numbers of features, histograms should be normalized."
   ]
  },
  {
   "cell_type": "markdown",
   "metadata": {
    "id": "brdvDtpTDeoA"
   },
   "source": [
    "####  **` Q2.4: Representing images by frequencies of visual words. (5-pts)`**\n",
    "\n",
    "Pick a subset ratio from the above settings (30%, 40% and 50%). For each class, calculate the frequency of visual words. Visualize the visual words' frequency by histogram. The X-axis is supposed to be the visual word number (e.g.,from 0 to 1000), and the Y-axis is supposed to be the frequency. Describe the similarities and differences."
   ]
  },
  {
   "cell_type": "code",
   "execution_count": null,
   "metadata": {
    "id": "2ER-moXF99h9"
   },
   "outputs": [],
   "source": [
    "################################\n",
    "# YOUR CODE HERE\n",
    "################################"
   ]
  },
  {
   "cell_type": "markdown",
   "metadata": {
    "id": "UzvBkirXDubr"
   },
   "source": [
    "## **2.5 Classification**\n",
    "\n",
    "We will train a classifier per each object class. Now, we take the Support Vector Machine (SVM) as an example. As a result, we will have 5 *binary* classifiers.\n",
    "\n",
    "Take images from the training set of the related class (should be the ones which you did not use for dictionary calculation). Represent them with histograms of visual words as discussed in the previous section. Use at least 50 training images per class or more, but remember to debug your code first! If you use the default setting, you should have 50 histograms of size 1000. These will be your positive examples.\n",
    "\n",
    "Then, you will obtain histograms of visual words for images from other classes, again about 50 images per class, as negative examples. Therefore, you will have 200 negative examples.\n",
    "\n",
    "Now, you are ready to train a classifier. You should repeat it for each class. To classify a new image, you should calculate its visual words histogram as described in Section 2.4 and use the trained SVM classifier to assign it to the most probable object class. (Note that for proper SVM scores you need to use cross-validation to get a proper estimate of the SVM parameters. In this assignment, you do not have to experiment with this cross-validation step)."
   ]
  },
  {
   "cell_type": "markdown",
   "metadata": {
    "id": "IaZtBMX9D7UR"
   },
   "source": [
    "####  **` Q2.5: Classification (5-pts)`**\n",
    "\n",
    "Utilize SVM and finish classification training.\n",
    "\n",
    "**Hint:**\n",
    "You can use *scikit-learn* software to conduct SVM classification. The relevant documents can be found at this [link](https://scikit-learn.org/stable/modules/svm.html)."
   ]
  },
  {
   "cell_type": "code",
   "execution_count": null,
   "metadata": {
    "id": "BvuuuJBt99h-"
   },
   "outputs": [],
   "source": [
    "################################\n",
    "# YOUR CODE HERE\n",
    "################################"
   ]
  },
  {
   "cell_type": "markdown",
   "metadata": {
    "id": "VT2FNr3rET3l"
   },
   "source": [
    "## **2.6 Evaluation**\n",
    "\n",
    "To evaluate your system, you should take all the test images from all classes and rank them based on each binary classifier. In other words, you should classify each test image with each classifier and then sort them based on the classification score. As a result, you will have five lists of test images. Ideally, you would have images with airplanes on the top of your list which is created based on your airplane classifier, and images with cars on the top of your list which is created based on your car classifier, and so on.\n",
    "\n",
    "In addition to the qualitative analysis, you should measure the performance of the system quantitatively with the Mean Average Precision (mAP) over all classes. The mAP for a single class c is defined as\n",
    "\\begin{equation}\n",
    "\\frac{1}{m_c} \\sum_{i=1}^{n} \\frac{f_c(x_i)}{i}\\mbox{ ,}\n",
    "\\end{equation}\n",
    "where $n$ is the number of images ($n=50\\times 5=250$), $m$ is the number of images of class $c$  ($m_c=50$), $x_i$ is the $i^{th}$ image in the ranked list $X = \\left \\{ x_1, x_2, \\dots, x_n  \\right \\}$, and finally, $f_c$ is a function which returns the number of images of class $c$ in the first $i$ images if $x_i$ is of class $c$, and 0 otherwise. To illustrate, if we want to retrieve $R$ and we get the following sequence: $[R, R, T, R, T, T, R, T]$, then $n = 8$, $m = 4$, and $AP(R, R, T, R, T, T, R) = \\frac{1}{4} \\left (  \\frac{1}{1} + \\frac{2}{2} + \\frac{0}{3} + \\frac{3}{4} + \\frac{0}{5} + \\frac{0}{6} + \\frac{4}{7} + \\frac{0}{8} \\right )$."
   ]
  },
  {
   "cell_type": "markdown",
   "metadata": {
    "id": "-cjfUXneEubT"
   },
   "source": [
    "####  **` Q2.6: Evaluation and Discussion (30-pts)`**\n",
    "\n",
    "Show the evaluation results and describe. The report should include the analysis of the results for different settings such as:\n",
    "- mAP based on different subset ratios to create the vocabulary list (30%, 40% and 50%) under the fixed vocabulary size 1000.\n",
    "- Based on the ratio among the above four settings that lead to the best performance, change the vocabulary sizes to different sizes (500, 1000 and 1500). Report and discuss the mAP.\n",
    "- Based on the above experiments, find the best setting. Report the mAP based on SIFT descriptor and HoG descriptor.\n",
    "- Visualize the top-5 and the bottom-5 ranked test images (based on the classifier confidence for the target class) under the best setting.\n",
    "- The impact of the hyper-parameters of SVM.  \n",
    "\n",
    "**Hint 1:**\n",
    "To alleviate the working load, the discussion on the impact of SVM’s hyper-parameter settings only need to based on the optimal settings from the first three questions.\n",
    "\n",
    "**Hint 2:**\n",
    "Be sure to discuss the differences between different settings such as vocabulary sizes in your report.\n",
    "\n",
    "**Hint 3:**\n",
    "You can use *skimage.feature.hog* to extract HoG descriptor. The relevant documents can be found at [link](https://scikit-image.org/docs/dev/api/skimage.feature.html?highlight=hog#skimage.feature.hog)."
   ]
  },
  {
   "cell_type": "code",
   "execution_count": null,
   "metadata": {
    "id": "qeCMyWD3FSIB"
   },
   "outputs": [],
   "source": [
    "################################\n",
    "# YOUR CODE HERE\n",
    "################################"
   ]
  },
  {
   "cell_type": "markdown",
   "metadata": {
    "id": "grbC046Fgcs0"
   },
   "source": [
    " # Individual Contribution Report *(Mandatory)*\n",
    "\n",
    "Because we want each student to contribute fairly to the submitted work, we ask you to fill out the textcells below. Write down your contribution to each of the assignment components in percentages. Naturally, percentages for one particular component should add up to 100% (e.g. 30% - 30% - 40%). No further explanation has to be given."
   ]
  },
  {
   "cell_type": "markdown",
   "metadata": {
    "id": "_I5rcHbegcs0"
   },
   "source": [
    "Name:\n",
    "\n",
    "Contribution on research: \\\n",
    "Contribution on programming: \\\n",
    "Contribution on writing:"
   ]
  },
  {
   "cell_type": "markdown",
   "metadata": {
    "id": "4KnwDXcbgcs0"
   },
   "source": [
    "Name:\n",
    "\n",
    "Contribution on research: \\\n",
    "Contribution on programming: \\\n",
    "Contribution on writing:"
   ]
  },
  {
   "cell_type": "markdown",
   "metadata": {
    "id": "cKSXrsjygcs0"
   },
   "source": [
    "Name:\n",
    "\n",
    "Contribution on research: \\\n",
    "Contribution on programming: \\\n",
    "Contribution on writing:"
   ]
  },
  {
   "cell_type": "markdown",
   "metadata": {
    "id": "NX-LCuYUgcs0"
   },
   "source": [
    "Name:\n",
    "\n",
    "Contribution on research: \\\n",
    "Contribution on programming: \\\n",
    "Contribution on writing:"
   ]
  },
  {
   "cell_type": "markdown",
   "metadata": {
    "id": "RctQ8Z1Cgcs0"
   },
   "source": [
    " # -End of Notebook-"
   ]
  }
 ],
 "metadata": {
  "colab": {
   "provenance": []
  },
  "kernelspec": {
   "display_name": "Python 3",
   "language": "python",
   "name": "python3"
  },
  "language_info": {
   "codemirror_mode": {
    "name": "ipython",
    "version": 3
   },
   "file_extension": ".py",
   "mimetype": "text/x-python",
   "name": "python",
   "nbconvert_exporter": "python",
   "pygments_lexer": "ipython3",
   "version": "3.6.8"
  }
 },
 "nbformat": 4,
 "nbformat_minor": 1
}
